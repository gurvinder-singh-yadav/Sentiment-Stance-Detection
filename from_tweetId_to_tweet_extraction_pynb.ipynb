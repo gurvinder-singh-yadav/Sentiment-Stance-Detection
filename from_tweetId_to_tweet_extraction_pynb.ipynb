{
  "nbformat": 4,
  "nbformat_minor": 0,
  "metadata": {
    "colab": {
      "provenance": []
    },
    "kernelspec": {
      "name": "python3",
      "display_name": "Python 3"
    },
    "language_info": {
      "name": "python"
    }
  },
  "cells": [
    {
      "cell_type": "code",
      "execution_count": null,
      "metadata": {
        "id": "UdyB6xnv0r0P"
      },
      "outputs": [],
      "source": [
        "import tweepy\n",
        "import json\n",
        "import os\n",
        "import ast\n",
        "import pandas as pd\n",
        "import csv\n",
        "import time\n",
        "\n",
        "CONSUMER_KEY=\"\"\n",
        "CONSUMER_SECRET=\"\"\n",
        "OAUTH_TOKEN=\"\"\n",
        "OAUTH_TOKEN_SECRET=\"\"\n",
        "\n",
        "list_ids=[]\n",
        "df_stu=pd.read_csv(\"final_data_share.csv\", delimiter=\";\") \n",
        "print(\"df_stu :: \",len(df_stu))\n",
        "\n",
        "list_ids=df_stu[\"tweetid\"].tolist()\n",
        "\n",
        "print(\"len of tweets\",len(list_ids),list_ids[:10])\n",
        "\n",
        "\n",
        "auth = tweepy.OAuthHandler(CONSUMER_KEY, CONSUMER_SECRET)\n",
        "auth.set_access_token(OAUTH_TOKEN, OAUTH_TOKEN_SECRET)\n",
        "api = tweepy.API(auth,wait_on_rate_limit=True,wait_on_rate_limit_notify=True)\n",
        "\n",
        "count=0\n",
        "for single_id in list_ids:\n",
        "\t#print(type(single_id))\n",
        "\tcount=count+1\n",
        "\ttry:\t\t\n",
        "\t\ttweet=api.get_status(single_id, tweet_mode='extended')\n",
        "\t\tprint(count)\n",
        "\t\t#<convert <class 'tweepy.models.Status'> to string representation of dict>\n",
        "\t\tjson_str = json.dumps(tweet._json)\n",
        "\t\t#<convert string representation of dict to dict>\n",
        "\t\ttweet=json.loads(json_str)\n",
        "\t\twith open(\"tweets_data.json\",\"a\") as f:\n",
        "\t\t\tjson.dump(tweet,f)\n",
        "\t\t\tf.write(\"\\n\")\n",
        "\texcept Exception as e:\n",
        "\t\twith open(\"tweets_id_to_remove.json\",\"a\") as f:\n",
        "\t\t\tf.write(str(single_id))\n",
        "\t\t\tf.write(\"\\n\")\n",
        "\t\tcontinue\n"
      ]
    }
  ]
}