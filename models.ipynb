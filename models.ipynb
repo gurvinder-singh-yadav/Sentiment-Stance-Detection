{
  "cells": [
    {
      "cell_type": "code",
      "execution_count": 1,
      "metadata": {
        "id": "dHYd31JETYyu"
      },
      "outputs": [],
      "source": [
        "import pandas as pd"
      ]
    },
    {
      "cell_type": "code",
      "execution_count": 4,
      "metadata": {
        "id": "u1XtvL05Th1Z"
      },
      "outputs": [],
      "source": [
        "df = pd.read_csv(\"data/finalized_data_of_climate_change.csv\")"
      ]
    },
    {
      "cell_type": "code",
      "execution_count": 5,
      "metadata": {
        "colab": {
          "base_uri": "https://localhost:8080/",
          "height": 693
        },
        "id": "KV8wijsrT3T0",
        "outputId": "9624b76c-7988-4e21-fd03-64548ef58f24"
      },
      "outputs": [
        {
          "data": {
            "text/html": [
              "<div>\n",
              "<style scoped>\n",
              "    .dataframe tbody tr th:only-of-type {\n",
              "        vertical-align: middle;\n",
              "    }\n",
              "\n",
              "    .dataframe tbody tr th {\n",
              "        vertical-align: top;\n",
              "    }\n",
              "\n",
              "    .dataframe thead th {\n",
              "        text-align: right;\n",
              "    }\n",
              "</style>\n",
              "<table border=\"1\" class=\"dataframe\">\n",
              "  <thead>\n",
              "    <tr style=\"text-align: right;\">\n",
              "      <th></th>\n",
              "      <th>tweetid</th>\n",
              "      <th>stance</th>\n",
              "      <th>sent</th>\n",
              "      <th>tweet_text</th>\n",
              "      <th>cleaned_text</th>\n",
              "      <th>topic_number</th>\n",
              "      <th>topic_name</th>\n",
              "    </tr>\n",
              "  </thead>\n",
              "  <tbody>\n",
              "    <tr>\n",
              "      <th>0</th>\n",
              "      <td>921191642844954624</td>\n",
              "      <td>believer</td>\n",
              "      <td>positive</td>\n",
              "      <td>@FriendsOScience @craigthomler @12zodiac_signs...</td>\n",
              "      <td>excellent video climate change global warm cli...</td>\n",
              "      <td>35</td>\n",
              "      <td>['video', 'film', '24', 'undefined', 'watch', ...</td>\n",
              "    </tr>\n",
              "    <tr>\n",
              "      <th>1</th>\n",
              "      <td>1422548442665177089</td>\n",
              "      <td>deny</td>\n",
              "      <td>neutral</td>\n",
              "      <td>@GretaThunberg Tweeting &amp;amp; travelling to pa...</td>\n",
              "      <td>tweet travel paid public relation event do not...</td>\n",
              "      <td>-1</td>\n",
              "      <td>['not', 'energy', 'number', 'get', 'make', 'cl...</td>\n",
              "    </tr>\n",
              "    <tr>\n",
              "      <th>2</th>\n",
              "      <td>953945068502593536</td>\n",
              "      <td>believer</td>\n",
              "      <td>neutral</td>\n",
              "      <td>#THERMOMETER IN #WORLD’S #COLDEST VILLAGE BREA...</td>\n",
              "      <td>thermometer world coldest village break temper...</td>\n",
              "      <td>-1</td>\n",
              "      <td>['not', 'energy', 'number', 'get', 'make', 'cl...</td>\n",
              "    </tr>\n",
              "    <tr>\n",
              "      <th>3</th>\n",
              "      <td>1435016842326708224</td>\n",
              "      <td>deny</td>\n",
              "      <td>positive</td>\n",
              "      <td>#global #canadanews #globalwarming #climatecha...</td>\n",
              "      <td>global canada news global warm climate change ...</td>\n",
              "      <td>421</td>\n",
              "      <td>['poli', 'kp', 'oli', 'kleptomania', 'alberta'...</td>\n",
              "    </tr>\n",
              "    <tr>\n",
              "      <th>4</th>\n",
              "      <td>1425192287177527304</td>\n",
              "      <td>believer</td>\n",
              "      <td>neutral</td>\n",
              "      <td>#ClimateActionNow \\nWe don't need ANY more #fo...</td>\n",
              "      <td>not need fossil fuel drilling mining</td>\n",
              "      <td>-1</td>\n",
              "      <td>['not', 'energy', 'number', 'get', 'make', 'cl...</td>\n",
              "    </tr>\n",
              "    <tr>\n",
              "      <th>...</th>\n",
              "      <td>...</td>\n",
              "      <td>...</td>\n",
              "      <td>...</td>\n",
              "      <td>...</td>\n",
              "      <td>...</td>\n",
              "      <td>...</td>\n",
              "      <td>...</td>\n",
              "    </tr>\n",
              "    <tr>\n",
              "      <th>60262</th>\n",
              "      <td>953883848852488198</td>\n",
              "      <td>believer</td>\n",
              "      <td>positive</td>\n",
              "      <td>@1_TMF_ @climatefrauds @AtomsksSanakan @Mark_F...</td>\n",
              "      <td>yep climate change global warm climate change ...</td>\n",
              "      <td>69</td>\n",
              "      <td>['yep', 'march', 'inconvenient', 'ip', 'mayor'...</td>\n",
              "    </tr>\n",
              "    <tr>\n",
              "      <th>60263</th>\n",
              "      <td>1454369889267879941</td>\n",
              "      <td>believer</td>\n",
              "      <td>positive</td>\n",
              "      <td>#Women in action\\n#WorldClimateMarch #GlobalCl...</td>\n",
              "      <td>woman action world climate march global climat...</td>\n",
              "      <td>716</td>\n",
              "      <td>['mondiale', 'climat', 'marche', 'march', 'emo...</td>\n",
              "    </tr>\n",
              "    <tr>\n",
              "      <th>60264</th>\n",
              "      <td>953662087171100672</td>\n",
              "      <td>believer</td>\n",
              "      <td>positive</td>\n",
              "      <td>Via @euronews: A year of extremes: 2017 hottes...</td>\n",
              "      <td>via year extreme number hottest year ever reco...</td>\n",
              "      <td>205</td>\n",
              "      <td>['agreement', 'great', 'paris', 'planet', 'mak...</td>\n",
              "    </tr>\n",
              "    <tr>\n",
              "      <th>60265</th>\n",
              "      <td>1499054675051438088</td>\n",
              "      <td>believer</td>\n",
              "      <td>neutral</td>\n",
              "      <td>Excellent thread on steps for #ClimateActionNo...</td>\n",
              "      <td>excellent thread step ip report beyond healthc...</td>\n",
              "      <td>-1</td>\n",
              "      <td>['not', 'energy', 'number', 'get', 'make', 'cl...</td>\n",
              "    </tr>\n",
              "    <tr>\n",
              "      <th>60266</th>\n",
              "      <td>1069570071482126336</td>\n",
              "      <td>believer</td>\n",
              "      <td>neutral</td>\n",
              "      <td>#ClimateChangeIsReal #ClimateChange #COP24 htt...</td>\n",
              "      <td>climate change cop24</td>\n",
              "      <td>1</td>\n",
              "      <td>['cop24', 'cop26', 'katowice', 'summit', 'cop'...</td>\n",
              "    </tr>\n",
              "  </tbody>\n",
              "</table>\n",
              "<p>60267 rows × 7 columns</p>\n",
              "</div>"
            ],
            "text/plain": [
              "                   tweetid    stance      sent  \\\n",
              "0       921191642844954624  believer  positive   \n",
              "1      1422548442665177089      deny   neutral   \n",
              "2       953945068502593536  believer   neutral   \n",
              "3      1435016842326708224      deny  positive   \n",
              "4      1425192287177527304  believer   neutral   \n",
              "...                    ...       ...       ...   \n",
              "60262   953883848852488198  believer  positive   \n",
              "60263  1454369889267879941  believer  positive   \n",
              "60264   953662087171100672  believer  positive   \n",
              "60265  1499054675051438088  believer   neutral   \n",
              "60266  1069570071482126336  believer   neutral   \n",
              "\n",
              "                                              tweet_text  \\\n",
              "0      @FriendsOScience @craigthomler @12zodiac_signs...   \n",
              "1      @GretaThunberg Tweeting &amp; travelling to pa...   \n",
              "2      #THERMOMETER IN #WORLD’S #COLDEST VILLAGE BREA...   \n",
              "3      #global #canadanews #globalwarming #climatecha...   \n",
              "4      #ClimateActionNow \\nWe don't need ANY more #fo...   \n",
              "...                                                  ...   \n",
              "60262  @1_TMF_ @climatefrauds @AtomsksSanakan @Mark_F...   \n",
              "60263  #Women in action\\n#WorldClimateMarch #GlobalCl...   \n",
              "60264  Via @euronews: A year of extremes: 2017 hottes...   \n",
              "60265  Excellent thread on steps for #ClimateActionNo...   \n",
              "60266  #ClimateChangeIsReal #ClimateChange #COP24 htt...   \n",
              "\n",
              "                                            cleaned_text  topic_number  \\\n",
              "0      excellent video climate change global warm cli...            35   \n",
              "1      tweet travel paid public relation event do not...            -1   \n",
              "2      thermometer world coldest village break temper...            -1   \n",
              "3      global canada news global warm climate change ...           421   \n",
              "4                   not need fossil fuel drilling mining            -1   \n",
              "...                                                  ...           ...   \n",
              "60262  yep climate change global warm climate change ...            69   \n",
              "60263  woman action world climate march global climat...           716   \n",
              "60264  via year extreme number hottest year ever reco...           205   \n",
              "60265  excellent thread step ip report beyond healthc...            -1   \n",
              "60266                               climate change cop24             1   \n",
              "\n",
              "                                              topic_name  \n",
              "0      ['video', 'film', '24', 'undefined', 'watch', ...  \n",
              "1      ['not', 'energy', 'number', 'get', 'make', 'cl...  \n",
              "2      ['not', 'energy', 'number', 'get', 'make', 'cl...  \n",
              "3      ['poli', 'kp', 'oli', 'kleptomania', 'alberta'...  \n",
              "4      ['not', 'energy', 'number', 'get', 'make', 'cl...  \n",
              "...                                                  ...  \n",
              "60262  ['yep', 'march', 'inconvenient', 'ip', 'mayor'...  \n",
              "60263  ['mondiale', 'climat', 'marche', 'march', 'emo...  \n",
              "60264  ['agreement', 'great', 'paris', 'planet', 'mak...  \n",
              "60265  ['not', 'energy', 'number', 'get', 'make', 'cl...  \n",
              "60266  ['cop24', 'cop26', 'katowice', 'summit', 'cop'...  \n",
              "\n",
              "[60267 rows x 7 columns]"
            ]
          },
          "execution_count": 5,
          "metadata": {},
          "output_type": "execute_result"
        }
      ],
      "source": [
        "df = df.drop(columns=['index','Unnamed: 0'])\n",
        "df"
      ]
    },
    {
      "cell_type": "code",
      "execution_count": 6,
      "metadata": {
        "id": "dz2UrfpmWbIu"
      },
      "outputs": [],
      "source": [
        "def stance_(label):\n",
        "  if label=='believer':\n",
        "    return 1\n",
        "  else:\n",
        "    return 0\n",
        "\n",
        "def sent_(label):\n",
        "  if label=='positive':\n",
        "    return 1\n",
        "  elif label=='negative':\n",
        "    return -1\n",
        "  else:\n",
        "    return 0\n",
        "\n",
        "df['stance'] = df['stance'].map(stance_)\n",
        "df['sent'] = df['sent'].map(sent_)"
      ]
    },
    {
      "cell_type": "code",
      "execution_count": 7,
      "metadata": {
        "id": "YOW45MyHVXC-"
      },
      "outputs": [],
      "source": [
        "tweets = df['cleaned_text'].to_list()\n",
        "stance = df['stance'].to_list()\n",
        "senti = df['sent'].to_list()"
      ]
    },
    {
      "cell_type": "code",
      "execution_count": 8,
      "metadata": {
        "id": "0zA2rBF_VA__"
      },
      "outputs": [],
      "source": [
        "training_size = 50000\n",
        "\n",
        "# Split the tweets\n",
        "training_tweets = tweets[0:training_size]\n",
        "verify_tweets = tweets[training_size:]\n",
        "\n",
        "# Split the labels\n",
        "training_labels_stance = stance[0:training_size]\n",
        "verify_labels_stance = stance[training_size:]\n",
        "training_labels_senti = senti[0:training_size]\n",
        "verify_labels_senti = senti[training_size:]\n",
        "\n",
        "validation_size = 4000\n",
        "\n",
        "#Split validation and testing tweets\n",
        "validation_tweets = verify_tweets[0:validation_size]\n",
        "testing_tweets = verify_tweets[validation_size:]\n",
        "\n",
        "#Split validation and testing labels\n",
        "validation_labels_stance = verify_labels_stance[0:validation_size]\n",
        "testing_labels_stance = verify_labels_stance[validation_size:]\n",
        "validation_labels_senti = verify_labels_senti[0:validation_size]\n",
        "testing_labels_senti = verify_labels_senti[validation_size:]"
      ]
    },
    {
      "cell_type": "code",
      "execution_count": 9,
      "metadata": {
        "id": "q6gy7CKjT4MD"
      },
      "outputs": [],
      "source": [
        "import numpy as np\n",
        "from tensorflow.keras.preprocessing.text import Tokenizer\n",
        "from tensorflow.keras.preprocessing.sequence import pad_sequences"
      ]
    },
    {
      "cell_type": "code",
      "execution_count": 10,
      "metadata": {
        "id": "sYFuw8ETU3du"
      },
      "outputs": [],
      "source": [
        "vocab_size = 10000\n",
        "max_length = 120\n",
        "trunc_type='post'\n",
        "padding_type='post'\n",
        "oov_tok = \"<OOV>\"\n",
        "\n",
        "# Initialize the Tokenizer class\n",
        "tokenizer = Tokenizer(num_words=vocab_size, oov_token=oov_tok)\n",
        "\n",
        "# Generate the word index dictionary\n",
        "tokenizer.fit_on_texts(training_tweets)\n",
        "word_index = tokenizer.word_index\n",
        "\n",
        "# Generate and pad the training sequences\n",
        "training_sequences = tokenizer.texts_to_sequences(training_tweets)\n",
        "training_padded = pad_sequences(training_sequences, maxlen=max_length, padding=padding_type, truncating=trunc_type)\n",
        "\n",
        "# Generate and pad the validation sequences\n",
        "validation_sequences = tokenizer.texts_to_sequences(validation_tweets)\n",
        "validation_padded = pad_sequences(validation_sequences, maxlen=max_length, padding=padding_type, truncating=trunc_type)\n",
        "\n",
        "# Generate and pad the testing sequences\n",
        "testing_sequences = tokenizer.texts_to_sequences(testing_tweets)\n",
        "testing_padded = pad_sequences(testing_sequences, maxlen=max_length, padding=padding_type, truncating=trunc_type)\n",
        "\n",
        "# Convert the labels lists into numpy arrays\n",
        "training_labels_stance = np.array(training_labels_stance)\n",
        "# training_labels_senti = np.array(training_labels_senti)\n",
        "validation_labels_stance = np.array(validation_labels_stance)\n",
        "testing_labels_stance = np.array(testing_labels_stance)\n",
        "# validation_labels_senti = np.array(validation_labels_senti)\n",
        "# testing_labels_senti = np.array(testing_labels_senti)"
      ]
    },
    {
      "cell_type": "code",
      "execution_count": 11,
      "metadata": {
        "id": "mnR7PB_NYKaB"
      },
      "outputs": [],
      "source": [
        "import tensorflow as tf"
      ]
    },
    {
      "cell_type": "code",
      "execution_count": 12,
      "metadata": {
        "colab": {
          "base_uri": "https://localhost:8080/"
        },
        "id": "LWLtk09jWAz9",
        "outputId": "1f9494b0-51b1-4ffb-e319-65965c156651"
      },
      "outputs": [
        {
          "name": "stdout",
          "output_type": "stream",
          "text": [
            "Model: \"sequential\"\n",
            "_________________________________________________________________\n",
            " Layer (type)                Output Shape              Param #   \n",
            "=================================================================\n",
            " embedding (Embedding)       (None, 120, 64)           640000    \n",
            "                                                                 \n",
            " bidirectional (Bidirectiona  (None, 120, 128)         66048     \n",
            " l)                                                              \n",
            "                                                                 \n",
            " bidirectional_1 (Bidirectio  (None, 64)               41216     \n",
            " nal)                                                            \n",
            "                                                                 \n",
            " dense (Dense)               (None, 64)                4160      \n",
            "                                                                 \n",
            " dense_1 (Dense)             (None, 1)                 65        \n",
            "                                                                 \n",
            "=================================================================\n",
            "Total params: 751,489\n",
            "Trainable params: 751,489\n",
            "Non-trainable params: 0\n",
            "_________________________________________________________________\n"
          ]
        }
      ],
      "source": [
        "class myCallback(tf.keras.callbacks.Callback):\n",
        "  def on_epoch_end(self, epoch, logs={}):\n",
        "    if(logs.get('accuracy') >= 0.95): # Experiment with changing this value\n",
        "      print(\"\\nReached 95% accuracy so cancelling training!\")\n",
        "      self.model.stop_training = True\n",
        "\n",
        "callbacks = myCallback()\n",
        "\n",
        "# Hyperparameters\n",
        "embedding_dim = 64\n",
        "lstm1_dim = 64\n",
        "lstm2_dim = 32\n",
        "dense_dim = 64\n",
        "\n",
        "# Model Definition with Bi_LSTM Stance model\n",
        "model_lstm_stance = tf.keras.Sequential([\n",
        "    tf.keras.layers.Embedding(vocab_size, embedding_dim, input_length=max_length),\n",
        "    tf.keras.layers.Bidirectional(tf.keras.layers.LSTM(lstm1_dim, return_sequences=True)),\n",
        "    tf.keras.layers.Bidirectional(tf.keras.layers.LSTM(lstm2_dim)),\n",
        "    tf.keras.layers.Dense(dense_dim, activation='relu'),\n",
        "    tf.keras.layers.Dense(1, activation='sigmoid')\n",
        "])\n",
        "\n",
        "# Set the training parameters\n",
        "model_lstm_stance.compile(loss='binary_crossentropy',optimizer='adam',metrics=['accuracy'])\n",
        "\n",
        "# Print the model summary\n",
        "model_lstm_stance.summary()"
      ]
    },
    {
      "cell_type": "code",
      "execution_count": 13,
      "metadata": {
        "colab": {
          "base_uri": "https://localhost:8080/",
          "height": 644
        },
        "id": "LI0Yk7_xB-q_",
        "outputId": "650ae548-9159-4478-dcdc-2500e15d2355"
      },
      "outputs": [
        {
          "name": "stdout",
          "output_type": "stream",
          "text": [
            "You must install pydot (`pip install pydot`) and install graphviz (see instructions at https://graphviz.gitlab.io/download/) for plot_model to work.\n"
          ]
        }
      ],
      "source": [
        "tf.keras.utils.plot_model(model_lstm_stance,show_shapes=True, show_layer_names=True)"
      ]
    },
    {
      "cell_type": "code",
      "execution_count": 14,
      "metadata": {
        "colab": {
          "base_uri": "https://localhost:8080/"
        },
        "id": "L92boMYMWNuY",
        "outputId": "52ee9096-8eb4-4125-8cca-c36ae0885ab2"
      },
      "outputs": [
        {
          "name": "stdout",
          "output_type": "stream",
          "text": [
            "Epoch 1/10\n"
          ]
        },
        {
          "name": "stderr",
          "output_type": "stream",
          "text": [
            "2023-05-03 14:44:23.160627: W tensorflow/tsl/platform/profile_utils/cpu_utils.cc:128] Failed to get CPU frequency: 0 Hz\n"
          ]
        },
        {
          "name": "stdout",
          "output_type": "stream",
          "text": [
            "1563/1563 [==============================] - 211s 133ms/step - loss: 0.2468 - accuracy: 0.9109 - val_loss: 0.1664 - val_accuracy: 0.9438\n",
            "Epoch 2/10\n",
            "1563/1563 [==============================] - ETA: 0s - loss: 0.1346 - accuracy: 0.9517\n",
            "Reached 95% accuracy so cancelling training!\n",
            "1563/1563 [==============================] - 185s 119ms/step - loss: 0.1346 - accuracy: 0.9517 - val_loss: 0.1629 - val_accuracy: 0.9402\n"
          ]
        }
      ],
      "source": [
        "NUM_EPOCHS = 10\n",
        "\n",
        "# Train the model\n",
        "history_lstm_stance = model_lstm_stance.fit(training_padded, training_labels_stance, epochs=NUM_EPOCHS, validation_data=(validation_padded, validation_labels_stance),callbacks=[callbacks])"
      ]
    },
    {
      "cell_type": "code",
      "execution_count": 12,
      "metadata": {
        "colab": {
          "base_uri": "https://localhost:8080/",
          "height": 887
        },
        "id": "dg93a79uWUtK",
        "outputId": "6ca5e161-2ee9-4413-9981-c4a12ba7544e"
      },
      "outputs": [
        {
          "data": {
            "image/png": "[encoded data removed]",
            "text/plain": [
              "<Figure size 640x480 with 1 Axes>"
            ]
          },
          "metadata": {},
          "output_type": "display_data"
        },
        {
          "data": {
            "image/png": "[encoded data removed]",
            "text/plain": [
              "<Figure size 640x480 with 1 Axes>"
            ]
          },
          "metadata": {},
          "output_type": "display_data"
        }
      ],
      "source": [
        "import matplotlib.pyplot as plt\n",
        "\n",
        "# Plot Utility\n",
        "def plot_graphs(history, string):\n",
        "  plt.plot(history.history[string])\n",
        "  plt.plot(history.history['val_'+string])\n",
        "  plt.xlabel(\"Epochs\")\n",
        "  plt.ylabel(string)\n",
        "  plt.legend([string, 'val_'+string])\n",
        "  plt.show()\n",
        "\n",
        "# Plot the accuracy and loss history\n",
        "plot_graphs(history_lstm_stance, 'accuracy')\n",
        "plot_graphs(history_lstm_stance, 'loss')"
      ]
    },
    {
      "cell_type": "code",
      "execution_count": 13,
      "metadata": {
        "colab": {
          "base_uri": "https://localhost:8080/"
        },
        "id": "b3w14WQtg4g9",
        "outputId": "93592691-078f-4fd7-97a0-9a12322062c0"
      },
      "outputs": [
        {
          "data": {
            "text/plain": [
              "{'loss': [0.19644244015216827, 0.12503769993782043],\n",
              " 'accuracy': [0.9303200244903564, 0.9566400051116943],\n",
              " 'val_loss': [0.16205042600631714, 0.16392484307289124],\n",
              " 'val_accuracy': [0.9465000033378601, 0.9457499980926514]}"
            ]
          },
          "execution_count": 13,
          "metadata": {},
          "output_type": "execute_result"
        }
      ],
      "source": [
        "history_lstm_stance.history"
      ]
    },
    {
      "cell_type": "code",
      "execution_count": 14,
      "metadata": {
        "colab": {
          "base_uri": "https://localhost:8080/"
        },
        "id": "PCHZyFdGZSFE",
        "outputId": "e9511be8-9451-4484-e21c-9cc9e5e65dbe"
      },
      "outputs": [
        {
          "name": "stdout",
          "output_type": "stream",
          "text": [
            "196/196 [==============================] - 3s 10ms/step - loss: 0.1489 - accuracy: 0.9467\n"
          ]
        },
        {
          "data": {
            "text/plain": [
              "[0.14894700050354004, 0.9467049837112427]"
            ]
          },
          "execution_count": 14,
          "metadata": {},
          "output_type": "execute_result"
        }
      ],
      "source": [
        "model_lstm_stance.evaluate(testing_padded,testing_labels_stance)"
      ]
    },
    {
      "cell_type": "code",
      "execution_count": 15,
      "metadata": {
        "id": "dkbQsdq4mcXa"
      },
      "outputs": [],
      "source": [
        "model_lstm_stance.save(\"data/Bi_LSTM_stance.h5\")"
      ]
    },
    {
      "cell_type": "code",
      "execution_count": 16,
      "metadata": {
        "id": "iY08kI6BncWJ"
      },
      "outputs": [],
      "source": [
        "import pickle\n",
        "\n",
        "# saving\n",
        "with open('data/tokenizer.pickle', 'wb') as handle:\n",
        "    pickle.dump(tokenizer, handle, protocol=pickle.HIGHEST_PROTOCOL)"
      ]
    },
    {
      "cell_type": "code",
      "execution_count": 17,
      "metadata": {
        "id": "xcAmAcwJkpoz"
      },
      "outputs": [],
      "source": [
        "model = tf.keras.models.load_model('data/Bi_LSTM_stance.h5')\n",
        "\n",
        "def preprocess_text(text):\n",
        "\n",
        "    max_length = 120\n",
        "    trunc_type='post'\n",
        "    padding_type='post'\n",
        "\n",
        "    # loading\n",
        "    with open('tokenizer.pickle', 'rb') as handle:\n",
        "        tokenizer = pickle.load(handle)\n",
        "    text_sequences = tokenizer.texts_to_sequences([text])\n",
        "    text_padded = pad_sequences(text_sequences, maxlen=max_length, padding=padding_type, truncating=trunc_type)\n",
        "    return text_padded\n",
        "\n",
        "def predict_stance(tweet):\n",
        "    # Preprocess the tweet text\n",
        "    preprocessed_tweet = preprocess_text(tweet)\n",
        "    \n",
        "    # Make a prediction with the loaded model\n",
        "    prediction = model.predict(preprocessed_tweet)[0][0]\n",
        "    \n",
        "    # Determine the Stance label based on the prediction\n",
        "    if prediction >= 0.5:\n",
        "        return 'Believer'\n",
        "    else:\n",
        "        return 'Denier'"
      ]
    },
    {
      "cell_type": "code",
      "execution_count": 33,
      "metadata": {
        "colab": {
          "base_uri": "https://localhost:8080/"
        },
        "id": "M5s_ll69kuCX",
        "outputId": "ad2f3b02-7682-4f52-d220-ff37a2db3385"
      },
      "outputs": [
        {
          "name": "stdout",
          "output_type": "stream",
          "text": [
            "1/1 [==============================] - 0s 38ms/step\n",
            "Believer\n",
            "1/1 [==============================] - 0s 42ms/step\n",
            "Denier\n"
          ]
        }
      ],
      "source": [
        "print(predict_stance(\"Climate change is real\"))\n",
        "print(predict_stance(\"Climate change is fake\"))"
      ]
    },
    {
      "cell_type": "code",
      "execution_count": 19,
      "metadata": {
        "id": "03KbELXmyKhz"
      },
      "outputs": [],
      "source": [
        "from keras.utils import to_categorical"
      ]
    },
    {
      "cell_type": "code",
      "execution_count": 20,
      "metadata": {
        "id": "57KsBxMAyKuK"
      },
      "outputs": [],
      "source": [
        "training_labels_senti = to_categorical(training_labels_senti,num_classes=3)\n",
        "validation_labels_senti = to_categorical(validation_labels_senti,num_classes=3)\n",
        "testing_labels_senti = to_categorical(testing_labels_senti,num_classes=3)"
      ]
    },
    {
      "cell_type": "code",
      "execution_count": 21,
      "metadata": {
        "colab": {
          "base_uri": "https://localhost:8080/"
        },
        "id": "2xPZvGyIm0Ic",
        "outputId": "73900ae1-211e-4da7-8ae6-d848bf51962d"
      },
      "outputs": [
        {
          "name": "stdout",
          "output_type": "stream",
          "text": [
            "Model: \"sequential_1\"\n",
            "_________________________________________________________________\n",
            " Layer (type)                Output Shape              Param #   \n",
            "=================================================================\n",
            " embedding_1 (Embedding)     (None, 120, 64)           640000    \n",
            "                                                                 \n",
            " bidirectional_2 (Bidirectio  (None, 120, 128)         66048     \n",
            " nal)                                                            \n",
            "                                                                 \n",
            " bidirectional_3 (Bidirectio  (None, 64)               41216     \n",
            " nal)                                                            \n",
            "                                                                 \n",
            " dense_2 (Dense)             (None, 64)                4160      \n",
            "                                                                 \n",
            " dense_3 (Dense)             (None, 3)                 195       \n",
            "                                                                 \n",
            "=================================================================\n",
            "Total params: 751,619\n",
            "Trainable params: 751,619\n",
            "Non-trainable params: 0\n",
            "_________________________________________________________________\n"
          ]
        }
      ],
      "source": [
        "# Model Definition with Bi_LSTM Sentiment model\n",
        "model_lstm_senti = tf.keras.Sequential([\n",
        "    tf.keras.layers.Embedding(vocab_size, embedding_dim, input_length=max_length),\n",
        "    tf.keras.layers.Bidirectional(tf.keras.layers.LSTM(lstm1_dim, return_sequences=True)),\n",
        "    tf.keras.layers.Bidirectional(tf.keras.layers.LSTM(lstm2_dim)),\n",
        "    tf.keras.layers.Dense(dense_dim, activation='relu'),\n",
        "    tf.keras.layers.Dense(3, activation='softmax')\n",
        "])\n",
        "\n",
        "# Set the training parameters\n",
        "model_lstm_senti.compile(loss='categorical_crossentropy',optimizer='adam',metrics=['accuracy'])\n",
        "\n",
        "# Print the model summary\n",
        "model_lstm_senti.summary()"
      ]
    },
    {
      "cell_type": "code",
      "execution_count": 46,
      "metadata": {
        "colab": {
          "base_uri": "https://localhost:8080/",
          "height": 644
        },
        "id": "dZWbx52FCl90",
        "outputId": "a46be71a-863b-481d-c5e4-30827ca2c771"
      },
      "outputs": [
        {
          "data": {
            "image/png": "[encoded data removed]",
            "text/plain": [
              "<IPython.core.display.Image object>"
            ]
          },
          "execution_count": 46,
          "metadata": {},
          "output_type": "execute_result"
        }
      ],
      "source": [
        "tf.keras.utils.plot_model(model_lstm_senti,show_shapes=True, show_layer_names=True)"
      ]
    },
    {
      "cell_type": "code",
      "execution_count": 22,
      "metadata": {
        "colab": {
          "base_uri": "https://localhost:8080/"
        },
        "id": "0tx1om-EtVxx",
        "outputId": "491f31b5-b156-46da-abb2-c1127011c621"
      },
      "outputs": [
        {
          "name": "stdout",
          "output_type": "stream",
          "text": [
            "Epoch 1/10\n",
            "1563/1563 [==============================] - 76s 43ms/step - loss: 0.9448 - accuracy: 0.5395 - val_loss: 0.8875 - val_accuracy: 0.5857\n",
            "Epoch 2/10\n",
            "1563/1563 [==============================] - 38s 25ms/step - loss: 0.8298 - accuracy: 0.6231 - val_loss: 0.8746 - val_accuracy: 0.5928\n",
            "Epoch 3/10\n",
            "1563/1563 [==============================] - 35s 23ms/step - loss: 0.7579 - accuracy: 0.6571 - val_loss: 0.9073 - val_accuracy: 0.5893\n",
            "Epoch 4/10\n",
            "1563/1563 [==============================] - 36s 23ms/step - loss: 0.6912 - accuracy: 0.6856 - val_loss: 0.9487 - val_accuracy: 0.5913\n",
            "Epoch 5/10\n",
            "1563/1563 [==============================] - 35s 22ms/step - loss: 0.6267 - accuracy: 0.7136 - val_loss: 1.0354 - val_accuracy: 0.5807\n",
            "Epoch 6/10\n",
            "1563/1563 [==============================] - 36s 23ms/step - loss: 0.5705 - accuracy: 0.7391 - val_loss: 1.1677 - val_accuracy: 0.5698\n",
            "Epoch 7/10\n",
            "1563/1563 [==============================] - 35s 22ms/step - loss: 0.5187 - accuracy: 0.7608 - val_loss: 1.2910 - val_accuracy: 0.5667\n",
            "Epoch 8/10\n",
            "1563/1563 [==============================] - 36s 23ms/step - loss: 0.4706 - accuracy: 0.7847 - val_loss: 1.3729 - val_accuracy: 0.5550\n",
            "Epoch 9/10\n",
            "1563/1563 [==============================] - 36s 23ms/step - loss: 0.4289 - accuracy: 0.8057 - val_loss: 1.5649 - val_accuracy: 0.5577\n",
            "Epoch 10/10\n",
            "1563/1563 [==============================] - 34s 22ms/step - loss: 0.3930 - accuracy: 0.8237 - val_loss: 1.7084 - val_accuracy: 0.5443\n"
          ]
        }
      ],
      "source": [
        "NUM_EPOCHS = 10\n",
        "\n",
        "# Train the model\n",
        "history_lstm_senti = model_lstm_senti.fit(training_padded, training_labels_senti, epochs=NUM_EPOCHS, validation_data=(validation_padded, validation_labels_senti),callbacks=[callbacks])"
      ]
    },
    {
      "cell_type": "code",
      "execution_count": 23,
      "metadata": {
        "colab": {
          "base_uri": "https://localhost:8080/",
          "height": 881
        },
        "id": "pX_KdV-zuJJI",
        "outputId": "df0b0b47-fd49-4e00-b044-170c23d13f08"
      },
      "outputs": [
        {
          "data": {
            "image/png": "[encoded data removed]",
            "text/plain": [
              "<Figure size 640x480 with 1 Axes>"
            ]
          },
          "metadata": {},
          "output_type": "display_data"
        },
        {
          "data": {
            "image/png": "[encoded data removed]",
            "text/plain": [
              "<Figure size 640x480 with 1 Axes>"
            ]
          },
          "metadata": {},
          "output_type": "display_data"
        }
      ],
      "source": [
        "import matplotlib.pyplot as plt\n",
        "\n",
        "# Plot Utility\n",
        "def plot_graphs(history, string):\n",
        "  plt.plot(history.history[string])\n",
        "  plt.plot(history.history['val_'+string])\n",
        "  plt.xlabel(\"Epochs\")\n",
        "  plt.ylabel(string)\n",
        "  plt.legend([string, 'val_'+string])\n",
        "  plt.show()\n",
        "\n",
        "# Plot the accuracy and loss history\n",
        "plot_graphs(history_lstm_senti, 'accuracy')\n",
        "plot_graphs(history_lstm_senti, 'loss')"
      ]
    },
    {
      "cell_type": "code",
      "execution_count": 24,
      "metadata": {
        "colab": {
          "base_uri": "https://localhost:8080/"
        },
        "id": "LD1qMfeMuPZA",
        "outputId": "43d5086f-f222-4d00-8a49-10aad61a5545"
      },
      "outputs": [
        {
          "data": {
            "text/plain": [
              "{'loss': [0.9448038935661316,\n",
              "  0.8298003077507019,\n",
              "  0.7579121589660645,\n",
              "  0.691239595413208,\n",
              "  0.6266904473304749,\n",
              "  0.5705411434173584,\n",
              "  0.5187318921089172,\n",
              "  0.47062188386917114,\n",
              "  0.42889073491096497,\n",
              "  0.39300039410591125],\n",
              " 'accuracy': [0.5394600033760071,\n",
              "  0.6231200098991394,\n",
              "  0.6571199893951416,\n",
              "  0.6855599880218506,\n",
              "  0.7135800123214722,\n",
              "  0.7391200065612793,\n",
              "  0.7608199715614319,\n",
              "  0.7846599817276001,\n",
              "  0.8056600093841553,\n",
              "  0.8237400054931641],\n",
              " 'val_loss': [0.8875415325164795,\n",
              "  0.874631404876709,\n",
              "  0.9072582721710205,\n",
              "  0.9486758708953857,\n",
              "  1.0354089736938477,\n",
              "  1.1676568984985352,\n",
              "  1.290971279144287,\n",
              "  1.3728910684585571,\n",
              "  1.5649034976959229,\n",
              "  1.7083914279937744],\n",
              " 'val_accuracy': [0.5857499837875366,\n",
              "  0.5927500128746033,\n",
              "  0.5892500281333923,\n",
              "  0.5912500023841858,\n",
              "  0.5807499885559082,\n",
              "  0.5697500109672546,\n",
              "  0.5667499899864197,\n",
              "  0.5550000071525574,\n",
              "  0.5577499866485596,\n",
              "  0.5442500114440918]}"
            ]
          },
          "execution_count": 24,
          "metadata": {},
          "output_type": "execute_result"
        }
      ],
      "source": [
        "history_lstm_senti.history"
      ]
    },
    {
      "cell_type": "code",
      "execution_count": 25,
      "metadata": {
        "colab": {
          "base_uri": "https://localhost:8080/"
        },
        "id": "B2umDBCuuSBW",
        "outputId": "aa80535b-1090-4478-8f3b-fac527f53a07"
      },
      "outputs": [
        {
          "name": "stdout",
          "output_type": "stream",
          "text": [
            "196/196 [==============================] - 4s 14ms/step - loss: 1.6752 - accuracy: 0.5523\n"
          ]
        },
        {
          "data": {
            "text/plain": [
              "[1.6751943826675415, 0.5522578358650208]"
            ]
          },
          "execution_count": 25,
          "metadata": {},
          "output_type": "execute_result"
        }
      ],
      "source": [
        "model_lstm_senti.evaluate(testing_padded,testing_labels_senti)"
      ]
    },
    {
      "cell_type": "code",
      "execution_count": 26,
      "metadata": {
        "id": "iEvTeCcaubOJ"
      },
      "outputs": [],
      "source": [
        "model_lstm_senti.save(\"data/Bi_LSTM_senti.h5\")"
      ]
    },
    {
      "cell_type": "code",
      "execution_count": 27,
      "metadata": {
        "colab": {
          "base_uri": "https://localhost:8080/"
        },
        "id": "I0uiaR7e2HAW",
        "outputId": "ceae3236-1965-40d5-f6a9-aa5ab7b83718"
      },
      "outputs": [
        {
          "name": "stdout",
          "output_type": "stream",
          "text": [
            "196/196 [==============================] - 3s 8ms/step\n"
          ]
        }
      ],
      "source": [
        "prediction = model_lstm_senti.predict(testing_padded)[0]"
      ]
    },
    {
      "cell_type": "code",
      "execution_count": 28,
      "metadata": {
        "colab": {
          "base_uri": "https://localhost:8080/"
        },
        "id": "v1Umbgci3HLh",
        "outputId": "9997e98f-443f-4ae4-96e7-48d91a0b9bc0"
      },
      "outputs": [
        {
          "data": {
            "text/plain": [
              "array([0.00118565, 0.9797263 , 0.01908796], dtype=float32)"
            ]
          },
          "execution_count": 28,
          "metadata": {},
          "output_type": "execute_result"
        }
      ],
      "source": [
        "prediction"
      ]
    },
    {
      "cell_type": "code",
      "execution_count": 29,
      "metadata": {
        "id": "oKUSy76e22nS"
      },
      "outputs": [],
      "source": [
        "label = np.argmax(prediction)"
      ]
    },
    {
      "cell_type": "code",
      "execution_count": 30,
      "metadata": {
        "colab": {
          "base_uri": "https://localhost:8080/"
        },
        "id": "XoPga8vg28dX",
        "outputId": "777562da-b6da-4cf9-cff8-78ea6ad7587a"
      },
      "outputs": [
        {
          "data": {
            "text/plain": [
              "1"
            ]
          },
          "execution_count": 30,
          "metadata": {},
          "output_type": "execute_result"
        }
      ],
      "source": [
        "label"
      ]
    },
    {
      "cell_type": "code",
      "execution_count": 41,
      "metadata": {
        "id": "NqSOsTLhuis_"
      },
      "outputs": [],
      "source": [
        "model = tf.keras.models.load_model('data/Bi_LSTM_senti.h5')\n",
        "\n",
        "def preprocess_text(text):\n",
        "\n",
        "    max_length = 120\n",
        "    trunc_type='post'\n",
        "    padding_type='post'\n",
        "\n",
        "    # loading\n",
        "    with open('tokenizer.pickle', 'rb') as handle:\n",
        "        tokenizer = pickle.load(handle)\n",
        "    text_sequences = tokenizer.texts_to_sequences([text])\n",
        "    text_padded = pad_sequences(text_sequences, maxlen=max_length, padding=padding_type, truncating=trunc_type)\n",
        "    return text_padded\n",
        "\n",
        "def predict_senti(tweet):\n",
        "    # Preprocess the tweet text\n",
        "    preprocessed_tweet = preprocess_text(tweet)\n",
        "\n",
        "    # Make a prediction with the loaded model\n",
        "    prediction = model.predict(preprocessed_tweet)[0]\n",
        "    \n",
        "    # Determine the sentiment label based on the prediction\n",
        "    label = np.argmax(prediction)\n",
        "    if label == 0:\n",
        "        return ('Neutral',prediction)\n",
        "    elif label == 1:\n",
        "        return ('Positive',prediction)\n",
        "    else:\n",
        "        return ('Negative',prediction)"
      ]
    },
    {
      "cell_type": "code",
      "execution_count": 42,
      "metadata": {
        "colab": {
          "base_uri": "https://localhost:8080/"
        },
        "id": "wkVRwNs_2Eeh",
        "outputId": "34e5c979-0981-4dce-e283-f69fe09ece9d"
      },
      "outputs": [
        {
          "name": "stdout",
          "output_type": "stream",
          "text": [
            "1/1 [==============================] - 1s 1s/step\n",
            "('Neutral', array([0.78273255, 0.16363734, 0.05363011], dtype=float32))\n",
            "1/1 [==============================] - 0s 23ms/step\n",
            "('Positive', array([0.3144948 , 0.37512574, 0.31037942], dtype=float32))\n",
            "1/1 [==============================] - 0s 24ms/step\n",
            "('Negative', array([1.2514104e-04, 6.1241648e-05, 9.9981362e-01], dtype=float32))\n"
          ]
        }
      ],
      "source": [
        "print(predict_senti(\"Climate change is real\"))\n",
        "print(predict_senti(\"Goverment policy are excellent regarding climate change\"))\n",
        "print(predict_senti(\"Climate change is a propaganda\"))"
      ]
    }
  ],
  "metadata": {
    "accelerator": "GPU",
    "colab": {
      "provenance": []
    },
    "gpuClass": "standard",
    "kernelspec": {
      "display_name": "Python 3",
      "name": "python3"
    },
    "language_info": {
      "codemirror_mode": {
        "name": "ipython",
        "version": 3
      },
      "file_extension": ".py",
      "mimetype": "text/x-python",
      "name": "python",
      "nbconvert_exporter": "python",
      "pygments_lexer": "ipython3",
      "version": "3.9.2"
    }
  },
  "nbformat": 4,
  "nbformat_minor": 0
}
